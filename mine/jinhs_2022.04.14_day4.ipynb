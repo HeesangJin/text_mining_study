{
 "cells": [
  {
   "cell_type": "code",
   "execution_count": 32,
   "id": "4274572d",
   "metadata": {},
   "outputs": [],
   "source": [
    "import numpy as np\n",
    "from tensorflow.keras import utils\n",
    "from tensorflow.keras.models import Sequential\n",
    "from tensorflow.keras.layers import Dense, LSTM"
   ]
  },
  {
   "cell_type": "code",
   "execution_count": 33,
   "id": "0f287e3a",
   "metadata": {},
   "outputs": [
    {
     "name": "stdout",
     "output_type": "stream",
     "text": [
      "['king', 'brave', 'man', 'queen', 'beautiful', 'woman']\n"
     ]
    }
   ],
   "source": [
    "text = \"King is a brave man. Queen is a beautiful woman.\"\n",
    "# 단어가 수치값을 갖도록 하고, 비슷한 애들은 거리가 가깝게 되도록 벡터로 나타낼 수 있을까?\n",
    "# stop word도 제거\n",
    "word_seq = []\n",
    "for word in text.split():\n",
    "    if ((word not in ['a', 'is'])):\n",
    "        word_seq.append(word.lower().strip('.'))\n",
    "        \n",
    "print(word_seq)"
   ]
  },
  {
   "cell_type": "code",
   "execution_count": 34,
   "id": "a9ec6d16",
   "metadata": {},
   "outputs": [
    {
     "name": "stdout",
     "output_type": "stream",
     "text": [
      "{'woman': 0, 'brave': 1, 'man': 2, 'king': 3, 'queen': 4, 'beautiful': 5}\n",
      "{0: 'woman', 1: 'brave', 2: 'man', 3: 'king', 4: 'queen', 5: 'beautiful'}\n"
     ]
    }
   ],
   "source": [
    "word_to_idx = {w: i for i, w in enumerate(set(word_seq))}\n",
    "idx_to_word = {i: w for i, w in enumerate(set(word_seq))}\n",
    "print(word_to_idx)\n",
    "print(idx_to_word)"
   ]
  },
  {
   "cell_type": "code",
   "execution_count": 35,
   "id": "9135ce74",
   "metadata": {
    "scrolled": true
   },
   "outputs": [
    {
     "name": "stdout",
     "output_type": "stream",
     "text": [
      "[['king', 'brave'], ['man', 'brave'], ['brave', 'man'], ['queen', 'man'], ['man', 'queen'], ['beautiful', 'queen'], ['queen', 'beautiful'], ['woman', 'beautiful'], ['brave', 'king'], ['beautiful', 'woman']]\n"
     ]
    }
   ],
   "source": [
    "# man을 가지고 brave 예측. \n",
    "# autoencoder는 입력을 똑같이 아웃풋으로 만들었는데\n",
    "# 이걸 그대로 가지고, brave -> king. brave -> man. king -> brave 를 나오게 해서.\n",
    "# 이 단어의 상관성을 고려한 특징벡터를 뽑아낼 수 있다는 것이 임베딩의 개념. 만들어보자.\n",
    "\n",
    "# CBOW 임베딩 구현\n",
    "# 가운데 단어로 양옆 예측\n",
    "data = []\n",
    "for i in range(1, len(word_seq) - 1):\n",
    "    target = word_seq[i]\n",
    "    neighbor = []\n",
    "    neighbor.append(word_seq[i-1])\n",
    "    neighbor.append(word_seq[i+1])\n",
    "    for w in neighbor:\n",
    "        data.append([w, target])\n",
    "data.append([word_seq[1], word_seq[0]])\n",
    "data.append([word_seq[-2], word_seq[-1]])\n",
    "# 아래 데이터를 [x, y] 빼서 x--> y 예측하는 예측 모델 만들기\n",
    "print(data)"
   ]
  },
  {
   "cell_type": "code",
   "execution_count": 36,
   "id": "2a70208c",
   "metadata": {},
   "outputs": [
    {
     "name": "stdout",
     "output_type": "stream",
     "text": [
      "[[0. 0. 0. 1. 0. 0.]\n",
      " [0. 0. 1. 0. 0. 0.]\n",
      " [0. 1. 0. 0. 0. 0.]\n",
      " [0. 0. 0. 0. 1. 0.]\n",
      " [0. 0. 1. 0. 0. 0.]\n",
      " [0. 0. 0. 0. 0. 1.]\n",
      " [0. 0. 0. 0. 1. 0.]\n",
      " [1. 0. 0. 0. 0. 0.]\n",
      " [0. 1. 0. 0. 0. 0.]\n",
      " [0. 0. 0. 0. 0. 1.]]\n",
      "[[0. 1. 0. 0. 0. 0.]\n",
      " [0. 1. 0. 0. 0. 0.]\n",
      " [0. 0. 1. 0. 0. 0.]\n",
      " [0. 0. 1. 0. 0. 0.]\n",
      " [0. 0. 0. 0. 1. 0.]\n",
      " [0. 0. 0. 0. 1. 0.]\n",
      " [0. 0. 0. 0. 0. 1.]\n",
      " [0. 0. 0. 0. 0. 1.]\n",
      " [0. 0. 0. 1. 0. 0.]\n",
      " [1. 0. 0. 0. 0. 0.]]\n"
     ]
    }
   ],
   "source": [
    "\n",
    "x_train = []\n",
    "y_train = []\n",
    "\n",
    "for w in data:\n",
    "    x_train.append(list(utils.to_categorical(word_to_idx[w[0]], 6)))\n",
    "    y_train.append(list(utils.to_categorical(word_to_idx[w[1]], 6)))\n",
    "x_train = np.array(x_train)\n",
    "y_train = np.array(y_train)\n",
    "print(x_train)\n",
    "print(y_train)"
   ]
  },
  {
   "cell_type": "code",
   "execution_count": 41,
   "id": "834547a5",
   "metadata": {},
   "outputs": [
    {
     "name": "stdout",
     "output_type": "stream",
     "text": [
      "Model: \"sequential_3\"\n",
      "_________________________________________________________________\n",
      "Layer (type)                 Output Shape              Param #   \n",
      "=================================================================\n",
      "dense_4 (Dense)              (None, 2)                 14        \n",
      "_________________________________________________________________\n",
      "dense_5 (Dense)              (None, 6)                 18        \n",
      "=================================================================\n",
      "Total params: 32\n",
      "Trainable params: 32\n",
      "Non-trainable params: 0\n",
      "_________________________________________________________________\n"
     ]
    }
   ],
   "source": [
    "model = Sequential()\n",
    "model.add(Dense(2, input_shape=(6,), activation='relu'))\n",
    "model.add(Dense(6, activation='softmax'))\n",
    "# 1개의 one hot을 class로 보겠다. 6개의 multi class를 clasification 하는 모델을 만든거다.\n",
    "# 입력값의 클래스에 대한 소속정도를 합이 1인 것으로 만드는 것이 softmax\n",
    "# logistic regression 은 2개 class를 나눠주는 거. Sigmoid써서, 0.5보다 크냐 작냐로 0, 1만듦. 아웃풋은 0,1\n",
    "# multi-class는 softmax. logistic regression을 3개를 쓴다. A or not, B or not, C or not. output은 확률값\n",
    "\n",
    "# binary_crossentropy는 값이 0 or 1 이니까 \n",
    "# categorical_crossentropy 는 값이 \n",
    "model.compile(loss= \"categorical_crossentropy\", optimizer='adam')\n",
    "model.summary()"
   ]
  },
  {
   "cell_type": "code",
   "execution_count": 42,
   "id": "c980c358",
   "metadata": {},
   "outputs": [
    {
     "data": {
      "text/plain": [
       "<tensorflow.python.keras.callbacks.History at 0x1fec58ae3c8>"
      ]
     },
     "execution_count": 42,
     "metadata": {},
     "output_type": "execute_result"
    }
   ],
   "source": [
    "model.fit(x_train, y_train, epochs=10000, verbose=0)"
   ]
  },
  {
   "cell_type": "code",
   "execution_count": 43,
   "id": "0a67c318",
   "metadata": {},
   "outputs": [
    {
     "name": "stdout",
     "output_type": "stream",
     "text": [
      "[array([[-1.6294754,  4.872391 ],\n",
      "       [-1.6296924, -1.7000802],\n",
      "       [ 3.150425 ,  1.1173719],\n",
      "       [ 3.0427523,  3.7191327],\n",
      "       [-1.629896 ,  1.1771926],\n",
      "       [ 3.1129844, -1.7001678]], dtype=float32), array([1.6294509, 1.7001055], dtype=float32), array([[ 2.1994576,  0.8373426, -2.7429414, -1.909079 ,  2.173208 ,\n",
      "        -3.4710996],\n",
      "       [-4.095012 ,  1.6653193,  1.0713344, -2.9106884, -1.3000001,\n",
      "         3.3605971]], dtype=float32), array([-3.0149496, -4.8581605,  3.985063 ,  3.9837697, -2.8896687,\n",
      "       -2.6015363], dtype=float32)]\n"
     ]
    }
   ],
   "source": [
    "weights = model.get_weights()\n",
    "print(weights)\n",
    "\n",
    "# (1,6) (6, 2) (2, 6) ==> (1, 6)\n",
    "# 6자리 one-hot 을 2개의 특징으로 압축하여 나타내는 (6,2)가 우리가 찾는 특징 vector임"
   ]
  },
  {
   "cell_type": "code",
   "execution_count": 45,
   "id": "efe47522",
   "metadata": {},
   "outputs": [
    {
     "data": {
      "image/png": "[encoded data removed]",
      "text/plain": [
       "<Figure size 432x288 with 1 Axes>"
      ]
     },
     "metadata": {
      "needs_background": "light"
     },
     "output_type": "display_data"
    }
   ],
   "source": [
    "import matplotlib.pyplot as plt\n",
    "\n",
    "# 6개 단어에 대한 특징벡터를 2차원으로 찍어보자\n",
    "\n",
    "\n",
    "fig, ax = plt.subplots()\n",
    "for i, label in enumerate(word_to_idx):\n",
    "    x, y = weights[0][i]\n",
    "    plt.xlim(-10, 10)\n",
    "    plt.ylim(-10, 10)\n",
    "    plt.scatter(x, y)\n",
    "    plt.annotate(label, xy=(x, y), xytext=(5,2), textcoords='offset points', ha='right', va='bottom')"
   ]
  },
  {
   "cell_type": "code",
   "execution_count": 46,
   "id": "8d615dbd",
   "metadata": {},
   "outputs": [
    {
     "name": "stdout",
     "output_type": "stream",
     "text": [
      "[[['king', 'man'], 'brave'], [['brave', 'queen'], 'man'], [['man', 'beautiful'], 'queen'], [['queen', 'woman'], 'beautiful']]\n"
     ]
    }
   ],
   "source": [
    "# N-gram\n",
    "data = []\n",
    "for i in range(1, len(word_seq) - 1):\n",
    "    target = word_seq[i]\n",
    "    neighbor = []\n",
    "    neighbor.append(word_seq[i-1])\n",
    "    neighbor.append(word_seq[i+1])\n",
    "    data.append([neighbor, target])\n",
    "    \n",
    "# 아래 데이터를 [x, y] 빼서 x--> y 예측하는 예측 모델 만들기\n",
    "print(data)"
   ]
  },
  {
   "cell_type": "code",
   "execution_count": 51,
   "id": "7bd32f43",
   "metadata": {},
   "outputs": [
    {
     "name": "stdout",
     "output_type": "stream",
     "text": [
      "[[[0. 0. 0. 1. 0. 0.]\n",
      "  [0. 0. 1. 0. 0. 0.]]\n",
      "\n",
      " [[0. 1. 0. 0. 0. 0.]\n",
      "  [0. 0. 0. 0. 1. 0.]]\n",
      "\n",
      " [[0. 0. 1. 0. 0. 0.]\n",
      "  [0. 0. 0. 0. 0. 1.]]\n",
      "\n",
      " [[0. 0. 0. 0. 1. 0.]\n",
      "  [1. 0. 0. 0. 0. 0.]]]\n",
      "[[0. 1. 0. 0. 0. 0.]\n",
      " [0. 0. 1. 0. 0. 0.]\n",
      " [0. 0. 0. 0. 1. 0.]\n",
      " [0. 0. 0. 0. 0. 1.]]\n"
     ]
    }
   ],
   "source": [
    "x_train = []\n",
    "y_train = []\n",
    "\n",
    "for w in data:\n",
    "    temp1 = list(utils.to_categorical(word_to_idx[w[0][0]], 6))\n",
    "    temp2 = list(utils.to_categorical(word_to_idx[w[0][1]], 6))\n",
    "    x_train.append([temp1, temp2])\n",
    "    y_train.append(list(utils.to_categorical(word_to_idx[w[1]], 6)))\n",
    "x_train = np.array(x_train)\n",
    "y_train = np.array(y_train)\n",
    "print(x_train)\n",
    "print(y_train)"
   ]
  },
  {
   "cell_type": "code",
   "execution_count": 76,
   "id": "07c32d3d",
   "metadata": {},
   "outputs": [
    {
     "name": "stdout",
     "output_type": "stream",
     "text": [
      "Model: \"sequential_9\"\n",
      "_________________________________________________________________\n",
      "Layer (type)                 Output Shape              Param #   \n",
      "=================================================================\n",
      "flatten_1 (Flatten)          (None, 12)                0         \n",
      "_________________________________________________________________\n",
      "dense_16 (Dense)             (None, 2)                 26        \n",
      "_________________________________________________________________\n",
      "dense_17 (Dense)             (None, 6)                 18        \n",
      "=================================================================\n",
      "Total params: 44\n",
      "Trainable params: 44\n",
      "Non-trainable params: 0\n",
      "_________________________________________________________________\n"
     ]
    }
   ],
   "source": [
    "from tensorflow.keras.layers import Flatten\n",
    "# Dense는 입력을 1차원으로만 받을 수 있기 때문에 flatten을 해줘야 함\n",
    "\n",
    "model = Sequential()\n",
    "model.add(Flatten(input_shape=(2,6))) # 모양만 바꿔주고 w는 없는 레이어. summary에서 Param #이 0으로 나옴\n",
    "model.add(Dense(2, activation='relu'))\n",
    "model.add(Dense(6, activation='softmax'))\n",
    "model.compile(loss= \"categorical_crossentropy\", optimizer='adam')\n",
    "model.summary()"
   ]
  },
  {
   "cell_type": "code",
   "execution_count": 77,
   "id": "9ce1533b",
   "metadata": {},
   "outputs": [
    {
     "data": {
      "text/plain": [
       "<tensorflow.python.keras.callbacks.History at 0x1fec9b1b248>"
      ]
     },
     "execution_count": 77,
     "metadata": {},
     "output_type": "execute_result"
    }
   ],
   "source": [
    "model.fit(x_train, y_train, epochs=10000, verbose=0)"
   ]
  },
  {
   "cell_type": "code",
   "execution_count": 78,
   "id": "800afd62",
   "metadata": {},
   "outputs": [
    {
     "name": "stdout",
     "output_type": "stream",
     "text": [
      "[array([[ 0.08256936,  0.05505437],\n",
      "       [ 0.5705544 , -0.42237678],\n",
      "       [-0.79522043, -0.4091264 ],\n",
      "       [-0.4939003 , -0.05047661],\n",
      "       [ 5.4930797 , -0.263184  ],\n",
      "       [-0.02757543, -0.05112016],\n",
      "       [ 6.033843  , -0.62919444],\n",
      "       [-0.59087515,  0.5098146 ],\n",
      "       [-1.0715302 , -0.02185923],\n",
      "       [-0.541111  ,  0.35596406],\n",
      "       [ 0.7635196 , -0.42232436],\n",
      "       [-1.7269424 , -0.30499154]], dtype=float32), array([2.5113137, 0.       ], dtype=float32), array([[-3.7669604 ,  0.06831989,  2.706512  , -2.98448   , -7.814167  ,\n",
      "         3.4676843 ],\n",
      "       [-0.41805223, -0.09999144,  0.2592445 , -0.4062616 ,  0.8196512 ,\n",
      "        -0.53277886]], dtype=float32), array([-2.013325 ,  4.380329 , -1.2993859, -2.0928025,  7.557187 ,\n",
      "       -7.448603 ], dtype=float32)]\n"
     ]
    }
   ],
   "source": [
    "weights = model.get_weights()\n",
    "print(weights)"
   ]
  },
  {
   "cell_type": "code",
   "execution_count": 79,
   "id": "4b86f168",
   "metadata": {},
   "outputs": [
    {
     "name": "stdout",
     "output_type": "stream",
     "text": [
      "[ 0.13762373  0.1481776  -1.2043469  -0.5443769   5.2298956  -0.0786956\n",
      "  5.404649   -0.08106053 -1.0933895  -0.18514693  0.34119523 -2.031934  ]\n",
      "[[ 0.13762373  0.1481776 ]\n",
      " [-1.2043469  -0.5443769 ]\n",
      " [ 5.2298956  -0.0786956 ]\n",
      " [ 5.404649   -0.08106053]\n",
      " [-1.0933895  -0.18514693]\n",
      " [ 0.34119523 -2.031934  ]]\n"
     ]
    }
   ],
   "source": [
    "weights = np.sum(weights[0], axis=1)\n",
    "print(weights)\n",
    "weights = weights.reshape((6, 2))\n",
    "print(weights)"
   ]
  },
  {
   "cell_type": "code",
   "execution_count": 80,
   "id": "424e0688",
   "metadata": {},
   "outputs": [
    {
     "data": {
      "image/png": "[encoded data removed]",
      "text/plain": [
       "<Figure size 432x288 with 1 Axes>"
      ]
     },
     "metadata": {
      "needs_background": "light"
     },
     "output_type": "display_data"
    }
   ],
   "source": [
    "import matplotlib.pyplot as plt\n",
    "\n",
    "# 6개 단어에 대한 특징벡터를 2차원으로 찍어보자\n",
    "\n",
    "\n",
    "fig, ax = plt.subplots()\n",
    "for i, label in enumerate(word_to_idx):\n",
    "    x, y = weights[i]\n",
    "    plt.xlim(-10, 10)\n",
    "    plt.ylim(-10, 10)\n",
    "    plt.scatter(x, y)\n",
    "    plt.annotate(label, xy=(x, y), xytext=(5,2), textcoords='offset points', ha='right', va='bottom')"
   ]
  },
  {
   "cell_type": "code",
   "execution_count": null,
   "id": "678e0d59",
   "metadata": {},
   "outputs": [],
   "source": []
  }
 ],
 "metadata": {
  "kernelspec": {
   "display_name": "Python 3 (ipykernel)",
   "language": "python",
   "name": "python3"
  },
  "language_info": {
   "codemirror_mode": {
    "name": "ipython",
    "version": 3
   },
   "file_extension": ".py",
   "mimetype": "text/x-python",
   "name": "python",
   "nbconvert_exporter": "python",
   "pygments_lexer": "ipython3",
   "version": "3.7.13"
  }
 },
 "nbformat": 4,
 "nbformat_minor": 5
}
