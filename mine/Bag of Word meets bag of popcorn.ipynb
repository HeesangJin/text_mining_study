{
 "cells": [
  {
   "cell_type": "code",
   "execution_count": 1,
   "id": "2400f9a5",
   "metadata": {},
   "outputs": [],
   "source": [
    "import numpy as np\n",
    "import pandas as pd\n",
    "import os\n",
    "import matplotlib.pyplot as plt\n",
    "import seaborn as sns\n",
    "%matplotlib inline"
   ]
  },
  {
   "cell_type": "code",
   "execution_count": 2,
   "id": "9a91e97e",
   "metadata": {},
   "outputs": [],
   "source": [
    "DATA_IN_PATH = \"./data_in/\"\n",
    "train_data = pd.read_csv(DATA_IN_PATH+\"labeledTrainData.tsv\", \n",
    "                         header = 0, delimiter=\"\\t\", quoting=3)\n",
    "#train_data.head()"
   ]
  },
  {
   "cell_type": "code",
   "execution_count": 3,
   "id": "9c5520e5",
   "metadata": {},
   "outputs": [
    {
     "name": "stdout",
     "output_type": "stream",
     "text": [
      "파일 크기: \n",
      "labeledTrainData.tsv          32.0MB\n",
      "testData.tsv                  31.21MB\n",
      "unlabeledTrainData.tsv        64.16MB\n",
      "전체 학습 데이터의 개수: 25000\n"
     ]
    }
   ],
   "source": [
    "print(\"파일 크기: \")\n",
    "FILE_SIZE_BASE = 1024 * 1024 # MB\n",
    "for file in os.listdir(DATA_IN_PATH):\n",
    "    if 'tsv' in file and 'zip' not in file:\n",
    "        print(file.ljust(30) + str(round(os.path.getsize(DATA_IN_PATH + file) / FILE_SIZE_BASE,\n",
    "                                        2)) + \"MB\")\n",
    "print(\"전체 학습 데이터의 개수: {}\".format(len(train_data)))    \n",
    "    "
   ]
  },
  {
   "cell_type": "code",
   "execution_count": 4,
   "id": "20d750cd",
   "metadata": {},
   "outputs": [
    {
     "data": {
      "text/plain": [
       "0    2304\n",
       "1     948\n",
       "2    2451\n",
       "3    2247\n",
       "4    2233\n",
       "Name: review, dtype: int64"
      ]
     },
     "execution_count": 4,
     "metadata": {},
     "output_type": "execute_result"
    }
   ],
   "source": [
    "train_length = train_data[\"review\"].apply(len)\n",
    "train_length.head()"
   ]
  },
  {
   "cell_type": "code",
   "execution_count": 5,
   "id": "f430436a",
   "metadata": {},
   "outputs": [
    {
     "data": {
      "text/plain": [
       "Text(0, 0.5, 'Number of review')"
      ]
     },
     "execution_count": 5,
     "metadata": {},
     "output_type": "execute_result"
    },
    {
     "data": {
      "image/png": "[encoded data removed]",
      "text/plain": [
       "<Figure size 864x360 with 1 Axes>"
      ]
     },
     "metadata": {
      "needs_background": "light"
     },
     "output_type": "display_data"
    }
   ],
   "source": [
    "plt.figure(figsize=(12,5))\n",
    "plt.hist(train_length, bins=200, alpha=0.5, color=\"r\", label=\"word\")\n",
    "plt.yscale(\"log\")\n",
    "plt.title(\"Log-Histogram of length of review\")\n",
    "plt.xlabel(\"Length of review\")\n",
    "plt.ylabel(\"Number of review\")"
   ]
  },
  {
   "cell_type": "code",
   "execution_count": 6,
   "id": "ccc0867e",
   "metadata": {},
   "outputs": [
    {
     "name": "stdout",
     "output_type": "stream",
     "text": [
      "리뷰 길이 최댓값:  13710\n",
      "리뷰 길이 최솟값:  54\n",
      "리뷰 길이 평균값:  1329.71\n",
      "리뷰 길이 표준편차: 1005.22\n",
      "리뷰 길이 중간값:   983.0\n",
      "리뷰 길이 제1사분위: 705.0\n",
      "리뷰 길이 제3사분위: 1619.0\n"
     ]
    }
   ],
   "source": [
    "print(\"리뷰 길이 최댓값:  {}\".format(np.max(train_length)))\n",
    "print(\"리뷰 길이 최솟값:  {}\".format(np.min(train_length)))\n",
    "print(\"리뷰 길이 평균값:  {:.2f}\".format(np.mean(train_length)))\n",
    "print(\"리뷰 길이 표준편차: {:.2f}\".format(np.std(train_length)))\n",
    "print(\"리뷰 길이 중간값:   {}\".format(np.median(train_length)))\n",
    "\n",
    "print(\"리뷰 길이 제1사분위: {}\".format(np.percentile(train_length, 25)))\n",
    "print(\"리뷰 길이 제3사분위: {}\".format(np.percentile(train_length, 75)))\n",
    "\n"
   ]
  },
  {
   "cell_type": "code",
   "execution_count": 7,
   "id": "26278908",
   "metadata": {},
   "outputs": [
    {
     "data": {
      "text/plain": [
       "{'whiskers': [<matplotlib.lines.Line2D at 0x7fe5d6c2a710>,\n",
       "  <matplotlib.lines.Line2D at 0x7fe5d6c2aa50>],\n",
       " 'caps': [<matplotlib.lines.Line2D at 0x7fe5d6c2ad90>,\n",
       "  <matplotlib.lines.Line2D at 0x7fe5d6c35110>],\n",
       " 'boxes': [<matplotlib.lines.Line2D at 0x7fe5d6c2a450>],\n",
       " 'medians': [<matplotlib.lines.Line2D at 0x7fe5d6c35490>],\n",
       " 'fliers': [<matplotlib.lines.Line2D at 0x7fe5d6c35b10>],\n",
       " 'means': [<matplotlib.lines.Line2D at 0x7fe5d6c357d0>]}"
      ]
     },
     "execution_count": 7,
     "metadata": {},
     "output_type": "execute_result"
    },
    {
     "data": {
      "image/png": "[encoded data removed]",
      "text/plain": [
       "<Figure size 864x360 with 1 Axes>"
      ]
     },
     "metadata": {
      "needs_background": "light"
     },
     "output_type": "display_data"
    }
   ],
   "source": [
    "plt.figure(figsize=(12,5))\n",
    "plt.boxplot(train_length, labels=['counts'], showmeans=True)"
   ]
  },
  {
   "cell_type": "code",
   "execution_count": null,
   "id": "3f0d71e4",
   "metadata": {},
   "outputs": [
    {
     "data": {
      "text/plain": [
       "(-0.5, 799.5, 599.5, -0.5)"
      ]
     },
     "execution_count": 8,
     "metadata": {},
     "output_type": "execute_result"
    }
   ],
   "source": [
    "from wordcloud import WordCloud\n",
    "cloud = WordCloud(width=800, height=600).generate(\" \".join(train_data[\"review\"]))\n",
    "plt.figure(figsize=(20,15))\n",
    "plt.imshow(cloud)\n",
    "plt.axis(\"off\")"
   ]
  },
  {
   "cell_type": "code",
   "execution_count": null,
   "id": "e073c7b1",
   "metadata": {},
   "outputs": [],
   "source": [
    "fig, axe = plt.subplots(ncols=1)\n",
    "fig.set_size_inches(6,3)\n",
    "sns.countplot(x=train_data['sentiment'])"
   ]
  },
  {
   "cell_type": "code",
   "execution_count": null,
   "id": "c577a5f5",
   "metadata": {},
   "outputs": [],
   "source": [
    "print(\"긍정 리뷰 개수: {}\".format(train_data[\"sentiment\"].value_counts()[1]))\n",
    "print(\"부정 리뷰 개수: {}\".format(train_data[\"sentiment\"].value_counts()[0]))\n",
    "train_word_counts = train_data[\"review\"].apply(lambda x: len(x.split(' ')))"
   ]
  },
  {
   "cell_type": "code",
   "execution_count": null,
   "id": "bcb9b67e",
   "metadata": {},
   "outputs": [],
   "source": [
    "plt.figure(figsize=(15,10))\n",
    "plt.hist(train_word_counts, bins=50, facecolor=\"r\", label=\"train\")\n",
    "plt.title(\"Log-Histogram of word count in review\", fontsize=15)\n",
    "plt.yscale(\"log\")\n",
    "plt.legend()\n",
    "plt.xlabel(\"Number of words\", fontsize=15)\n",
    "plt.ylabel(\"Number of review\", fontsize=15)\n",
    "# 각 리뷰의 단어 개수"
   ]
  },
  {
   "cell_type": "code",
   "execution_count": null,
   "id": "12ec1990",
   "metadata": {},
   "outputs": [],
   "source": [
    "print(\"리뷰 단어 개수 최댓값:  {}\".format(np.max(train_word_counts)))\n",
    "print(\"리뷰 단어 개수 최솟값:  {}\".format(np.min(train_word_counts)))\n",
    "print(\"리뷰 단어 개수 평균값:  {:.2f}\".format(np.mean(train_word_counts)))\n",
    "print(\"리뷰 단어 개수 표준편차: {:.2f}\".format(np.std(train_word_counts)))\n",
    "print(\"리뷰 단어 개수 중간값:   {}\".format(np.median(train_word_counts)))\n",
    "\n",
    "print(\"리뷰 단어 개수 제1사분위: {}\".format(np.percentile(train_word_counts, 25)))\n",
    "print(\"리뷰 단어 개수 제3사분위: {}\".format(np.percentile(train_word_counts, 75)))"
   ]
  },
  {
   "cell_type": "code",
   "execution_count": null,
   "id": "9fd728e5",
   "metadata": {},
   "outputs": [],
   "source": [
    "qmarks = np.mean(train_data[\"review\"].apply(lambda x: \"?\" in x))\n",
    "fullstop = np.mean(train_data[\"review\"].apply(lambda x: \".\" in x))\n",
    "capital_first = np.mean(train_data[\"review\"].apply(lambda x: x[0].isupper()))\n",
    "capitals = np.mean(train_data[\"review\"].apply(lambda x: max([y.isupper() for y in x])))\n",
    "numbers = np.mean(train_data[\"review\"].apply(lambda x: max([y.isdigit() for y in x])))\n",
    "\n",
    "print(\"물음표가 있는 질문: {:.2f}% \".format(qmarks * 100))\n",
    "print(\"마침표가 있는 질문: {:.2f}% \".format(fullstop * 100))\n",
    "print(\"첫 글자가 대문자인 질문: {:.2f}% \".format(capital_first * 100))\n",
    "print(\"대문자가 있는 질문: {:.2f}% \".format(capitals * 100))\n",
    "print(\"숫자가 있는 질문: {:.2f}% \".format(numbers * 100))"
   ]
  },
  {
   "cell_type": "code",
   "execution_count": null,
   "id": "54f1369a",
   "metadata": {},
   "outputs": [],
   "source": [
    "import re\n",
    "import pandas\n",
    "import numpy\n",
    "import json\n",
    "from bs4 import BeautifulSoup\n",
    "from nltk.corpus import stopwords\n",
    "from tensorflow.python.keras.preprocessing.sequence import pad_sequences\n",
    "from tensorflow.python.keras.preprocessing.text import Tokenizer"
   ]
  },
  {
   "cell_type": "code",
   "execution_count": null,
   "id": "b27f1c02",
   "metadata": {},
   "outputs": [],
   "source": [
    "DATA_IN_PATH = \"./data_in/\"\n",
    "train_data = pd.read_csv( DATA_IN_PATH + \"labeledTrainData.tsv\", header=0, \n",
    "                        delimiter = '\\t', quoting = 3)\n",
    "#print(train_data[\"review\"][0])"
   ]
  },
  {
   "cell_type": "code",
   "execution_count": null,
   "id": "44105f93",
   "metadata": {},
   "outputs": [],
   "source": [
    "review = train_data[\"review\"][0]\n",
    "review_text = BeautifulSoup(review, \"html5lib\").get_text() # HTML 태그 제거\n",
    "review_text = re.sub(\"[^a-zA-Z]\", \" \", review_text) # 알파벳 빼고 제거\n",
    "#print(review_text)"
   ]
  },
  {
   "cell_type": "code",
   "execution_count": null,
   "id": "3a3129d3",
   "metadata": {},
   "outputs": [],
   "source": [
    "stop_words = set(stopwords.words(\"english\"))\n",
    "review_text = review_text.lower()\n",
    "words = review_text.split()\n",
    "words = [w for w in words if not w in stop_words]\n",
    "#print(words)"
   ]
  },
  {
   "cell_type": "code",
   "execution_count": null,
   "id": "ad819e33",
   "metadata": {},
   "outputs": [],
   "source": [
    "clean_review = \" \".join(words)\n",
    "#print(clean_review)"
   ]
  },
  {
   "cell_type": "code",
   "execution_count": null,
   "id": "e086f3b5",
   "metadata": {},
   "outputs": [],
   "source": [
    "def preprocessing(review, remove_stopwords = False):\n",
    "    review_text = BeautifulSoup(review, \"html5lib\").get_text() # HTML 태그 제거\n",
    "    review_text = re.sub(\"[^a-zA-Z]\", \" \", review_text) # 알파벳 빼고 제거\n",
    "    words = review_text.lower()\n",
    "    if remove_stopwords:\n",
    "        # stopwords 제거\n",
    "        stop_words = set(stopwords.words(\"english\"))\n",
    "        words = words.split()\n",
    "        words = [w for w in words if not w in stop_words]\n",
    "    # 리스트로 쪼개진 문자열 다시 붙임\n",
    "    clean_review = \" \".join(words)\n",
    "    return clean_review\n",
    "        "
   ]
  },
  {
   "cell_type": "code",
   "execution_count": null,
   "id": "f4a3d74e",
   "metadata": {},
   "outputs": [],
   "source": [
    "clean_train_reviews = []\n",
    "for review in train_data[\"review\"]:\n",
    "    clean_train_reviews.append(preprocessing(review, remove_stopwords = True))\n",
    "#clean_train_reviews[0]"
   ]
  },
  {
   "cell_type": "code",
   "execution_count": null,
   "id": "79e50f5d",
   "metadata": {},
   "outputs": [],
   "source": [
    "clean_train_df = pd.DataFrame({\"review\": clean_train_reviews, \n",
    "                               \"sentiment\": train_data[\"sentiment\"]})\n",
    "clean_train_df.head()"
   ]
  },
  {
   "cell_type": "code",
   "execution_count": null,
   "id": "a68abfb8",
   "metadata": {},
   "outputs": [],
   "source": [
    "tokenizer = Tokenizer()\n",
    "tokenizer.fit_on_texts(clean_train_reviews)\n",
    "text_sequences = tokenizer.texts_to_sequences(clean_train_reviews)\n",
    "#print(text_sequences[0])"
   ]
  },
  {
   "cell_type": "code",
   "execution_count": null,
   "id": "98d4e89a",
   "metadata": {},
   "outputs": [],
   "source": [
    "word_vocab = tokenizer.word_index\n",
    "word_vocab[\"<PAD>\"] = 0\n",
    "#print(word_vocab)"
   ]
  },
  {
   "cell_type": "code",
   "execution_count": null,
   "id": "9dcf0e2d",
   "metadata": {},
   "outputs": [],
   "source": [
    "print(\"전체 단어 개수: \", len(word_vocab))"
   ]
  },
  {
   "cell_type": "code",
   "execution_count": null,
   "id": "67b231d6",
   "metadata": {},
   "outputs": [],
   "source": [
    "data_configs = {}\n",
    "data_configs['vocab'] = word_vocab\n",
    "data_configs['vocab_size'] = len(word_vocab)\n",
    "MAX_SEQUENCE_LENGTH = 174 # 문자 길이 median 값\n",
    "train_inputs = pad_sequences(text_sequences, maxlen=MAX_SEQUENCE_LENGTH, padding='post')\n",
    "print(\"Shape of train data: \", train_inputs.shape)\n",
    "train_labels = np.array(train_data[\"sentiment\"])\n",
    "print(\"Shape of label tensor: \", train_labels.shape)"
   ]
  },
  {
   "cell_type": "code",
   "execution_count": null,
   "id": "819c7d39",
   "metadata": {},
   "outputs": [],
   "source": [
    "DATA_IN_PATH = \"./data_in/\"\n",
    "TRAIN_INPUT_DATA = \"train_input.npy\"\n",
    "TRAIN_LABEL_DATA = \"train_label.npy\"\n",
    "TRAIN_CLEAN_DATA = \"train_clean.csv\"\n",
    "DATA_CONFIGS = \"data_config.json\"\n",
    "\n",
    "import os \n",
    "if not os.path.exists(DATA_IN_PATH):\n",
    "    os.makedirs(DATA_IN_PATH)"
   ]
  },
  {
   "cell_type": "code",
   "execution_count": null,
   "id": "f7efd6b1",
   "metadata": {},
   "outputs": [],
   "source": [
    "# 전처리 데이터를 넘파이 형태로 저장 (모델에 그대로 넣을 데이터)\n",
    "np.save(open(DATA_IN_PATH + TRAIN_INPUT_DATA, 'wb'), train_inputs)\n",
    "np.save(open(DATA_IN_PATH + TRAIN_LABEL_DATA, 'wb'), train_labels)\n",
    "\n",
    "# 정제된 텍스트를 CSV 형태로 저장 (vectorize 안된 자연어 데이터)\n",
    "clean_train_df.to_csv(DATA_IN_PATH + TRAIN_CLEAN_DATA, index = False)\n",
    "json.dump(data_configs, open(DATA_IN_PATH + DATA_CONFIGS, \"w\"), ensure_ascii=False)"
   ]
  },
  {
   "cell_type": "code",
   "execution_count": null,
   "id": "f606279f",
   "metadata": {},
   "outputs": [],
   "source": [
    "DATA_IN_PATH = \"./data_in/\"\n",
    "test_data = pd.read_csv(DATA_IN_PATH + \"testData.tsv\", header=0, delimiter=\"\\t\", quoting=3)"
   ]
  },
  {
   "cell_type": "code",
   "execution_count": null,
   "id": "993b15bb",
   "metadata": {},
   "outputs": [],
   "source": [
    "clean_test_reviews = []\n",
    "for review in test_data[\"review\"]:\n",
    "    clean_test_reviews.append(preprocessing(review, remove_stopwords = True))\n",
    "clean_test_df = pd.DataFrame({\"review\": clean_test_reviews, \"id\": test_data['id']})\n",
    "test_id = np.array(test_data['id'])"
   ]
  },
  {
   "cell_type": "code",
   "execution_count": null,
   "id": "8c94d6c3",
   "metadata": {},
   "outputs": [],
   "source": [
    "# train data로 만든 tokenizer 로 test data를 시퀀스화함\n",
    "text_sequences = tokenizer.texts_to_sequences(clean_test_reviews)\n",
    "# padding도 train data에서 구한 문장 단어 개수의 median 값으로 세팅\n",
    "test_inputs = pad_sequences(text_sequences, maxlen=MAX_SEQUENCE_LENGTH, padding ='post')"
   ]
  },
  {
   "cell_type": "code",
   "execution_count": null,
   "id": "742116eb",
   "metadata": {},
   "outputs": [],
   "source": [
    "TEST_INPUT_DATA = 'test_input.npy'\n",
    "TEST_CLEAN_DATA = 'test_clean.csv'\n",
    "TEST_ID_DATA = \"test_id.npy\"\n",
    "\n",
    "np.save(open(DATA_IN_PATH + TEST_INPUT_DATA, \"wb\"), test_inputs)\n",
    "np.save(open(DATA_IN_PATH + TEST_ID_DATA, \"wb\"), test_id)\n",
    "clean_test_df.to_csv(DATA_IN_PATH + TEST_CLEAN_DATA, index=False)"
   ]
  },
  {
   "cell_type": "code",
   "execution_count": null,
   "id": "e558cc8d",
   "metadata": {},
   "outputs": [],
   "source": [
    "DATA_IN_PATH = \"./data_in/\"\n",
    "TRAIN_CELAN_DATA = \"train_clean.csv\"\n",
    "train_data = pd.read_csv(DATA_IN_PATH + TRAIN_CLEAN_DATA)\n",
    "reviews = list(train_data['review'])\n",
    "sentiments = list(train_data['sentiment'])"
   ]
  },
  {
   "cell_type": "code",
   "execution_count": null,
   "id": "0ae41fd0",
   "metadata": {},
   "outputs": [],
   "source": [
    "from sklearn.feature_extraction.text import TfidfVectorizer\n",
    "vectorizer = TfidfVectorizer(min_df = 0.0, analyzer = \"char\", sublinear_tf=True,\n",
    "                            ngram_range=(1,3), max_features=5000)\n",
    "X = vectorizer.fit_transform(reviews)"
   ]
  },
  {
   "cell_type": "code",
   "execution_count": null,
   "id": "96d45b52",
   "metadata": {},
   "outputs": [],
   "source": []
  }
 ],
 "metadata": {
  "kernelspec": {
   "display_name": "Python 3 (ipykernel)",
   "language": "python",
   "name": "python3"
  },
  "language_info": {
   "codemirror_mode": {
    "name": "ipython",
    "version": 3
   },
   "file_extension": ".py",
   "mimetype": "text/x-python",
   "name": "python",
   "nbconvert_exporter": "python",
   "pygments_lexer": "ipython3",
   "version": "3.7.13"
  }
 },
 "nbformat": 4,
 "nbformat_minor": 5
}
